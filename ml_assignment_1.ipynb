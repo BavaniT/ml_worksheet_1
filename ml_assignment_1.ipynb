{
  "nbformat": 4,
  "nbformat_minor": 0,
  "metadata": {
    "colab": {
      "name": "ml_assignment 1.ipynb",
      "provenance": []
    },
    "kernelspec": {
      "name": "python3",
      "display_name": "Python 3"
    },
    "language_info": {
      "name": "python"
    }
  },
  "cells": [
    {
      "cell_type": "markdown",
      "metadata": {
        "id": "q74QYxnnXcMt"
      },
      "source": [
        "1.Write a python function which should be capable of finding the factorial of any given number as an\n",
        "argument."
      ]
    },
    {
      "cell_type": "code",
      "metadata": {
        "colab": {
          "base_uri": "https://localhost:8080/"
        },
        "id": "o8GPrM0WXhfS",
        "outputId": "d66d55fd-6585-4873-8b04-e871e741a3b7"
      },
      "source": [
        "def factorial(num):\n",
        "  fact=1\n",
        "  for i in range(1,num+1):\n",
        "      fact=fact*i\n",
        "  return fact\n",
        "print(factorial(5))\n",
        "print(factorial(20))\n",
        "print(factorial(100))\n"
      ],
      "execution_count": 1,
      "outputs": [
        {
          "output_type": "stream",
          "name": "stdout",
          "text": [
            "120\n",
            "2432902008176640000\n",
            "93326215443944152681699238856266700490715968264381621468592963895217599993229915608941463976156518286253697920827223758251185210916864000000000000000000000000\n"
          ]
        }
      ]
    },
    {
      "cell_type": "markdown",
      "metadata": {
        "id": "M803At-rYugE"
      },
      "source": [
        "2.Luke Skywalker has family and friends. Help him remind them who is who. Given a string with a\n",
        "name, return the relation of that person to Luke.\n",
        "\n",
        "    Person     Relation\n",
        "\n",
        "    Darth      Vader father\n",
        "\n",
        "    Leia    sister\n",
        "\n",
        "    Han     brother in law\n",
        "\n",
        "    R2D2    droid\n",
        "\n",
        "    Example : relation_to_luke(\"Darth Vader\") ➞ \"Luke, I am your father.\""
      ]
    },
    {
      "cell_type": "code",
      "metadata": {
        "colab": {
          "base_uri": "https://localhost:8080/"
        },
        "id": "6BaKKe8WXkpt",
        "outputId": "c1085754-39d2-4469-fdd5-04037fcb257e"
      },
      "source": [
        "def relation_to_luke(name):\n",
        "    relation={'Darth Vader':'father','Lela':'sister','Han':'brother in law','R2D2':'droid'}\n",
        "    return relation[name]\n",
        "\n",
        "print(\"Luke, I am your \"+ relation_to_luke('Darth Vader'))\n",
        "print(\"Luke, I am your \"+ relation_to_luke('Lela'))\n",
        "print(\"Luke, I am your \"+ relation_to_luke('Han'))\n",
        "print(\"Luke, I am your \"+ relation_to_luke('R2D2'))\n"
      ],
      "execution_count": 2,
      "outputs": [
        {
          "output_type": "stream",
          "name": "stdout",
          "text": [
            "Luke, I am your father\n",
            "Luke, I am your sister\n",
            "Luke, I am your brother in law\n",
            "Luke, I am your droid\n"
          ]
        }
      ]
    },
    {
      "cell_type": "markdown",
      "metadata": {
        "id": "dDeL7mXYZLoU"
      },
      "source": [
        "3.Create a function which takes a number as its argument and return the number of digits in it. Use\n",
        "of len function is not allowed. For example for 5 it should return 1, for 32 it should return 2 and 123 ,\n",
        "3 should be returned and so on.\n"
      ]
    },
    {
      "cell_type": "code",
      "metadata": {
        "colab": {
          "base_uri": "https://localhost:8080/"
        },
        "id": "TnudTMt0ZH5c",
        "outputId": "9937d7a9-62f7-4cba-ac13-9cdde0258374"
      },
      "source": [
        "def no_of_digits(num):\n",
        "    temp=num\n",
        "    count=0\n",
        "    while(temp>0):\n",
        "        x=temp%10\n",
        "        count+=1\n",
        "        temp=temp//10\n",
        "        \n",
        "    return count\n",
        "\n",
        "print(no_of_digits(5))\n",
        "print(no_of_digits(32))\n",
        "print(no_of_digits(123))\n",
        "print(no_of_digits(1234))"
      ],
      "execution_count": 3,
      "outputs": [
        {
          "output_type": "stream",
          "name": "stdout",
          "text": [
            "1\n",
            "2\n",
            "3\n",
            "4\n"
          ]
        }
      ]
    },
    {
      "cell_type": "markdown",
      "metadata": {
        "id": "7KvVpjteZX-w"
      },
      "source": [
        " 4.Write a function which takes a number as argument suppose 5 and gives results as multiplication\n",
        "of factorial of each positive number less than or equal to the number given. i.e !5*!4*!3*!2*!1 =\n",
        "34560."
      ]
    },
    {
      "cell_type": "code",
      "metadata": {
        "colab": {
          "base_uri": "https://localhost:8080/"
        },
        "id": "Q0f-3-uBZVDz",
        "outputId": "dd6d4544-200b-4294-c443-7f1a8991d4d8"
      },
      "source": [
        "def factorial(num):\n",
        "  fact=1\n",
        "  for i in range(1,num+1):\n",
        "      fact=fact*i\n",
        "  return fact\n",
        "\n",
        "def mul_fact(num):\n",
        "    temp=num\n",
        "    result=1\n",
        "    while(temp>0):\n",
        "        curr_fact=factorial(temp)\n",
        "        result=result*curr_fact\n",
        "        temp-=1\n",
        "    return result\n",
        "\n",
        "print(mul_fact(5))\n"
      ],
      "execution_count": 4,
      "outputs": [
        {
          "output_type": "stream",
          "name": "stdout",
          "text": [
            "34560\n"
          ]
        }
      ]
    },
    {
      "cell_type": "markdown",
      "metadata": {
        "id": "qKTHtXeuZjAc"
      },
      "source": [
        "5.Write a function which takes any number of arguments from a user and return the result which\n",
        "should be output of a^2 + b^2+ c^2+… if a , b ,c are numbers supplied ..i.e if 1,2,3 are supplied then result\n",
        "returned should be 14. But user may supply any number of inputs so make the function to adapt to\n",
        "that."
      ]
    },
    {
      "cell_type": "code",
      "metadata": {
        "colab": {
          "base_uri": "https://localhost:8080/"
        },
        "id": "652oKIXJZhSE",
        "outputId": "518570da-7e5b-459e-f7c4-100713a3c95f"
      },
      "source": [
        "def args_example(*argv):\n",
        "    result=0\n",
        "    for num in argv:\n",
        "        \n",
        "        temp=num**2\n",
        "        result=result+temp\n",
        "    return result\n",
        "\n",
        "print(args_example(1))\n",
        "print(args_example(1,2))\n",
        "print(args_example(1,2,3))\n",
        "print(args_example(1,2,3,4))\n",
        "\n"
      ],
      "execution_count": 5,
      "outputs": [
        {
          "output_type": "stream",
          "name": "stdout",
          "text": [
            "1\n",
            "5\n",
            "14\n",
            "30\n"
          ]
        }
      ]
    },
    {
      "cell_type": "markdown",
      "metadata": {
        "id": "aWCHmq1lZ6ej"
      },
      "source": [
        "6.Write a function which accepts 3 arguments from the user.1 .number 1, 2. Number2 and 3. An\n",
        "operation. The operation supported should be +, -, *, and /. The function should return the result of\n",
        "given operation. For example arguments are 3,2,+ then result returned should be 5"
      ]
    },
    {
      "cell_type": "code",
      "metadata": {
        "colab": {
          "base_uri": "https://localhost:8080/"
        },
        "id": "DHTkErDgZuUl",
        "outputId": "336619e7-519f-4d54-ee3c-33ac18b211b2"
      },
      "source": [
        "def operation(num1,num2,op):\n",
        "    if(op not in ['+','-','*','/']):\n",
        "        return \n",
        "    else:\n",
        "        if(op=='+'):\n",
        "            return num1+num2\n",
        "        elif(op=='-'):\n",
        "            return num1-num2\n",
        "        elif(op=='*'):\n",
        "            return num1*num2\n",
        "        elif(op=='/'):\n",
        "            return num1/num2\n",
        "\n",
        "print(operation(2,3,'+'))\n",
        "print(operation(2,3,'-'))\n",
        "print(operation(2,3,'*'))\n",
        "print(operation(2,3,'/'))\n",
        "print(operation(2,3,'^'))\n"
      ],
      "execution_count": 6,
      "outputs": [
        {
          "output_type": "stream",
          "name": "stdout",
          "text": [
            "5\n",
            "-1\n",
            "6\n",
            "0.6666666666666666\n",
            "None\n"
          ]
        }
      ]
    },
    {
      "cell_type": "markdown",
      "metadata": {
        "id": "U2XH-oGkaICv"
      },
      "source": [
        "  7.Write a function which takes an argument which should be a numeric +ve integer. Depending on\n",
        "the input supplied you have to print “I CAN”, “I WILL”. Suppose some one enters argument as 1 then\n",
        "only “I CAN” should be printed. But if some one enters 2 then first “I CAN” should be printed then “I\n",
        "WILL”. And if someone enters 3 then following should be printed in corresponding order: “I CAN”, “I\n",
        "WILL”, “I CAN” and so on for any numbers entered."
      ]
    },
    {
      "cell_type": "code",
      "metadata": {
        "colab": {
          "base_uri": "https://localhost:8080/"
        },
        "id": "fz3Lc22eaGJL",
        "outputId": "de70c50a-a066-46dc-9b11-8fd86d4fff0a"
      },
      "source": [
        "def i_can_i_will(num):\n",
        "    temp=num\n",
        "    a=0\n",
        "    while(temp>0):\n",
        "        if(a==0):\n",
        "            print('\"I CAN,\"',end=' ')\n",
        "            a=1\n",
        "        else:\n",
        "            print('\"I WILL,\"',end=' ')\n",
        "            a=0\n",
        "        temp-=1\n",
        "\n",
        "\n",
        "i_can_i_will(4)\n"
      ],
      "execution_count": 7,
      "outputs": [
        {
          "output_type": "stream",
          "name": "stdout",
          "text": [
            "\"I CAN,\" \"I WILL,\" \"I CAN,\" \"I WILL,\" "
          ]
        }
      ]
    },
    {
      "cell_type": "markdown",
      "metadata": {
        "id": "NWJdn8AhawzL"
      },
      "source": [
        "8.We have been given a list of whole numbers which represents the color of each gloves, determine\n",
        "how many pairs of gloves with matching colors there are. For example, there are 7 gloves with\n",
        "colors [1, 2, 1, 2, 1, 3, 2]. There is one pair of color 1 and one of color 2. There are three odd gloves\n",
        "left, one of each color. The number of pairs is 2. Create a function that returns an integer representing\n",
        "the number of matching pairs of gloves that are available."
      ]
    },
    {
      "cell_type": "code",
      "metadata": {
        "colab": {
          "base_uri": "https://localhost:8080/"
        },
        "id": "IFsy2IsMaSBO",
        "outputId": "da7b6b6f-f92d-48c9-d24a-53c43147c779"
      },
      "source": [
        "def no_of_matchingpairs(l1):\n",
        "    l1.sort()\n",
        "    i=0\n",
        "    count=0\n",
        "    flag=True\n",
        "    while(i<len(l1)-1):\n",
        "        #print(l1[i+1])\n",
        "        if(l1[i+1]-l1[i]==0):\n",
        "            count+=1\n",
        "            i+=2\n",
        "            \n",
        "        else:\n",
        "            i+=1\n",
        "    return count\n",
        "\n",
        "    \n",
        "print(no_of_matchingpairs([1,2]))\n",
        "print(no_of_matchingpairs([1,1]))\n",
        "print(no_of_matchingpairs([1,2,1,2]))\n",
        "print(no_of_matchingpairs([1,2,1,2,1,3,2,4,2]))\n",
        "\n"
      ],
      "execution_count": 8,
      "outputs": [
        {
          "output_type": "stream",
          "name": "stdout",
          "text": [
            "0\n",
            "1\n",
            "2\n",
            "3\n"
          ]
        }
      ]
    },
    {
      "cell_type": "markdown",
      "metadata": {
        "id": "G5vabB6ebNWJ"
      },
      "source": [
        "9.Write a function that returns True if two arrays, when combined, form a consecutive sequence. A\n",
        "consecutive sequence is a sequence without any gaps in the integers, e.g. 1, 2, 3, 4, 5 is a\n",
        "consecutive sequence, but 1, 2, 4, 5 is not. Notes\n",
        "• The input lists will have unique values.\n",
        "• The input lists can be in any order.\n",
        "\n",
        "  Examples\n",
        "\n",
        "  consecutive_combo([7, 4, 5, 1], [2, 3, 6]) ➞ True\n",
        "\n",
        "  consecutive_combo([1, 4, 6, 5], [2, 7, 8, 9]) ➞ False\n",
        "\n",
        "  consecutive_combo([1, 4, 5, 6], [2, 3, 7, 8, 10]) ➞ False\n",
        "\n",
        "  consecutive_combo([44, 46], [45]) ➞ True"
      ]
    },
    {
      "cell_type": "code",
      "metadata": {
        "colab": {
          "base_uri": "https://localhost:8080/"
        },
        "id": "yVTxz45aa_x2",
        "outputId": "80c3d989-4931-41b5-d717-70e96cc3d6d3"
      },
      "source": [
        "    def consecutive_sequence(l1,l2):\n",
        "      l1.extend(l2)\n",
        "      l1.sort()\n",
        "      i=0\n",
        "      flag=True\n",
        "      while(i<len(l1)-1):\n",
        "          \n",
        "          if(l1[i+1]-l1[i]==1):\n",
        "              \n",
        "              i+=1\n",
        "              flag=True\n",
        "          else:\n",
        "              flag=False\n",
        "              break\n",
        "      return flag\n",
        "print(consecutive_sequence([7,4,5,1],[2,3,6]))\n",
        "print(consecutive_sequence([1,4,5,6],[2,7,8,9]))\n",
        "print(consecutive_sequence([44,46],[45]))"
      ],
      "execution_count": 9,
      "outputs": [
        {
          "output_type": "stream",
          "name": "stdout",
          "text": [
            "True\n",
            "False\n",
            "True\n"
          ]
        }
      ]
    },
    {
      "cell_type": "markdown",
      "metadata": {
        "id": "dKOjbYI4c6E5"
      },
      "source": [
        "  10.You work for a manufacturer, and have been asked to calculate the total profit made on the sales\n",
        "of a product. You are given a dictionary containing the cost price per unit (in dollars), sell price per\n",
        "unit (in dollars), and the starting inventory. Return the total profit made, rounded to the nearest\n",
        "dollar.\n",
        "\n",
        "  Examples\n",
        "    profit({\n",
        "      \"cost_price\": 32.67,\n",
        "\n",
        "      \"sell_price\": 45.00,\n",
        "\n",
        "       \"inventory\": 1200\n",
        "}) ➞ 14796"
      ]
    },
    {
      "cell_type": "code",
      "metadata": {
        "colab": {
          "base_uri": "https://localhost:8080/"
        },
        "id": "waKO1k_ecgaE",
        "outputId": "196304c3-db89-4309-8965-a66db6d8e0f1"
      },
      "source": [
        "def total_profit(product_details):\n",
        "    total_profit=int((product_details['sell_price']-product_details['cost_price'])*product_details['inventory'])\n",
        "    return total_profit\n",
        "\n",
        "print(total_profit({\n",
        "    'cost_price':32.67,\n",
        "    'sell_price':45.00,\n",
        "    'inventory':1200\n",
        "}))\n"
      ],
      "execution_count": 10,
      "outputs": [
        {
          "output_type": "stream",
          "name": "stdout",
          "text": [
            "14795\n"
          ]
        }
      ]
    },
    {
      "cell_type": "code",
      "metadata": {
        "id": "Yayhf-1TdHdP"
      },
      "source": [
        ""
      ],
      "execution_count": 10,
      "outputs": []
    }
  ]
}